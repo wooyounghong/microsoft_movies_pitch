{
 "cells": [
  {
   "cell_type": "markdown",
   "metadata": {},
   "source": [
    "## Data Cleaning and Preprocessing ##\n",
    "\n",
    "After getting our movie_data.csv many edits were needed. \n",
    "1. We needed to split the gross into domestic and world wide\n",
    "2. We needed to format the date into a separate month and year column.\n",
    "    -we needed to also separate out the random title values in the release date column.\n",
    "    -decide wether to drop or append these wrong values. \n",
    "3. Change budget to an integer after stripping the dollar sign. \n",
    "4. Limit genres to 1 genre for plotting.\n",
    "5. Decide wether or not to keep the budget column as only ~600 had values provided."
   ]
  },
  {
   "cell_type": "code",
   "execution_count": 5,
   "metadata": {},
   "outputs": [],
   "source": [
    "# plotting libraries\n",
    "import seaborn as sns\n",
    "import matplotlib.pyplot as plt\n",
    "%matplotlib inline\n",
    "\n",
    "# math and df manipulation libraries\n",
    "import pandas as pd\n",
    "import numpy as py\n",
    "import math\n",
    "import time\n",
    "import re\n",
    "import requests\n",
    "import sys\n",
    "import json\n",
    "import ast"
   ]
  },
  {
   "cell_type": "code",
   "execution_count": 6,
   "metadata": {},
   "outputs": [],
   "source": [
    "#Importing CSV for data, this is the data our visualizations are based on\n",
    "movie_df = pd.read_csv('movie_data.csv', index_col = 0)"
   ]
  },
  {
   "cell_type": "code",
   "execution_count": null,
   "metadata": {},
   "outputs": [],
   "source": [
    "\n"
   ]
  },
  {
   "cell_type": "code",
   "execution_count": 7,
   "metadata": {},
   "outputs": [],
   "source": [
    "# Some calculations to be made\n",
    "# first we need the release month fromt the date\n",
    "\n",
    "movie_df['release_date'] = movie_df.release_date.astype(str)\n",
    "movie_df['release_month'] = (movie_df['release_date'].apply(lambda x: x.split()[0]))\n",
    "movie_df['release_year'] = movie_df['release_date'].apply(lambda x: x.split()[-1])\n",
    "movie_df['month_year'] = movie_df['release_month'] + ' ' + movie_df['release_year']"
   ]
  },
  {
   "cell_type": "code",
   "execution_count": 8,
   "metadata": {},
   "outputs": [],
   "source": [
    "# next we need the worldwide gross and domestic gross from the dictionary keys and values of total gross \n",
    "# we made this a new column\n",
    "\n",
    "movie_df['world_gross'] = movie_df['total_gross'].apply(lambda x: ast.literal_eval(x)['worldwide_gross'])\n",
    "movie_df['domestic_gross'] = movie_df['total_gross'].apply(lambda x: ast.literal_eval(x)['domestic_gross'])"
   ]
  },
  {
   "cell_type": "code",
   "execution_count": 9,
   "metadata": {},
   "outputs": [],
   "source": [
    "movie_df['budget_cost'] = movie_df.budget_cost.astype(str)\n",
    "movie_df['budget_cost'] = movie_df['budget_cost'].apply(lambda x: x.replace('$', '').replace(',',''))"
   ]
  },
  {
   "cell_type": "code",
   "execution_count": 501,
   "metadata": {},
   "outputs": [],
   "source": [
    "# this converted our genres to a strong so that we could index it. \n",
    "movie_df['genres'] = movie_df.genres.astype(str)"
   ]
  },
  {
   "cell_type": "code",
   "execution_count": null,
   "metadata": {},
   "outputs": [],
   "source": []
  },
  {
   "cell_type": "code",
   "execution_count": 398,
   "metadata": {},
   "outputs": [
    {
     "data": {
      "text/html": [
       "<div>\n",
       "<style scoped>\n",
       "    .dataframe tbody tr th:only-of-type {\n",
       "        vertical-align: middle;\n",
       "    }\n",
       "\n",
       "    .dataframe tbody tr th {\n",
       "        vertical-align: top;\n",
       "    }\n",
       "\n",
       "    .dataframe thead th {\n",
       "        text-align: right;\n",
       "    }\n",
       "</style>\n",
       "<table border=\"1\" class=\"dataframe\">\n",
       "  <thead>\n",
       "    <tr style=\"text-align: right;\">\n",
       "      <th></th>\n",
       "      <th>title</th>\n",
       "      <th>release_date</th>\n",
       "      <th>genres</th>\n",
       "      <th>mpaa</th>\n",
       "      <th>budget_cost</th>\n",
       "      <th>total_gross</th>\n",
       "      <th>runtime</th>\n",
       "      <th>release_month</th>\n",
       "      <th>release_year</th>\n",
       "      <th>world_gross</th>\n",
       "      <th>domestic_gross</th>\n",
       "      <th>month_year</th>\n",
       "    </tr>\n",
       "  </thead>\n",
       "  <tbody>\n",
       "    <tr>\n",
       "      <th>0</th>\n",
       "      <td>Finding Dory</td>\n",
       "      <td>Jun 17, 2016</td>\n",
       "      <td>['Adventure', 'Animation', 'Comedy', 'Family']</td>\n",
       "      <td>PG</td>\n",
       "      <td>nan</td>\n",
       "      <td>{'domestic_gross': 486295561, 'worldwide_gross...</td>\n",
       "      <td>1 hr 37 min</td>\n",
       "      <td>Jun</td>\n",
       "      <td>2016</td>\n",
       "      <td>1028570889</td>\n",
       "      <td>486295561</td>\n",
       "      <td>Jun 2016</td>\n",
       "    </tr>\n",
       "    <tr>\n",
       "      <th>1</th>\n",
       "      <td>Rogue One: A Star Wars Story</td>\n",
       "      <td>Dec 16, 2016</td>\n",
       "      <td>['Action', 'Adventure', 'Sci-Fi']</td>\n",
       "      <td>PG-13</td>\n",
       "      <td>200000000</td>\n",
       "      <td>{'domestic_gross': 532177324, 'worldwide_gross...</td>\n",
       "      <td>2 hr 13 min</td>\n",
       "      <td>Dec</td>\n",
       "      <td>2016</td>\n",
       "      <td>1056057273</td>\n",
       "      <td>532177324</td>\n",
       "      <td>Dec 2016</td>\n",
       "    </tr>\n",
       "    <tr>\n",
       "      <th>2</th>\n",
       "      <td>Captain America: Civil War</td>\n",
       "      <td>May 6, 2016</td>\n",
       "      <td>['Action', 'Adventure', 'Sci-Fi']</td>\n",
       "      <td>PG-13</td>\n",
       "      <td>250000000</td>\n",
       "      <td>{'domestic_gross': 408084349, 'worldwide_gross...</td>\n",
       "      <td>2 hr 27 min</td>\n",
       "      <td>May</td>\n",
       "      <td>2016</td>\n",
       "      <td>1153296293</td>\n",
       "      <td>408084349</td>\n",
       "      <td>May 2016</td>\n",
       "    </tr>\n",
       "    <tr>\n",
       "      <th>3</th>\n",
       "      <td>The Secret Life of Pets</td>\n",
       "      <td>Jul 8, 2016</td>\n",
       "      <td>['Adventure', 'Animation', 'Comedy', 'Family']</td>\n",
       "      <td>PG</td>\n",
       "      <td>75000000</td>\n",
       "      <td>{'domestic_gross': 368384330, 'worldwide_gross...</td>\n",
       "      <td>1 hr 27 min</td>\n",
       "      <td>Jul</td>\n",
       "      <td>2016</td>\n",
       "      <td>875457937</td>\n",
       "      <td>368384330</td>\n",
       "      <td>Jul 2016</td>\n",
       "    </tr>\n",
       "    <tr>\n",
       "      <th>4</th>\n",
       "      <td>The Jungle Book</td>\n",
       "      <td>Apr 15, 2016</td>\n",
       "      <td>['Adventure', 'Drama', 'Family', 'Fantasy']</td>\n",
       "      <td>PG</td>\n",
       "      <td>175000000</td>\n",
       "      <td>{'domestic_gross': 364001123, 'worldwide_gross...</td>\n",
       "      <td>1 hr 46 min</td>\n",
       "      <td>Apr</td>\n",
       "      <td>2016</td>\n",
       "      <td>966550600</td>\n",
       "      <td>364001123</td>\n",
       "      <td>Apr 2016</td>\n",
       "    </tr>\n",
       "  </tbody>\n",
       "</table>\n",
       "</div>"
      ],
      "text/plain": [
       "                          title  release_date  \\\n",
       "0                  Finding Dory  Jun 17, 2016   \n",
       "1  Rogue One: A Star Wars Story  Dec 16, 2016   \n",
       "2    Captain America: Civil War   May 6, 2016   \n",
       "3       The Secret Life of Pets   Jul 8, 2016   \n",
       "4               The Jungle Book  Apr 15, 2016   \n",
       "\n",
       "                                           genres   mpaa budget_cost  \\\n",
       "0  ['Adventure', 'Animation', 'Comedy', 'Family']     PG         nan   \n",
       "1               ['Action', 'Adventure', 'Sci-Fi']  PG-13   200000000   \n",
       "2               ['Action', 'Adventure', 'Sci-Fi']  PG-13   250000000   \n",
       "3  ['Adventure', 'Animation', 'Comedy', 'Family']     PG    75000000   \n",
       "4     ['Adventure', 'Drama', 'Family', 'Fantasy']     PG   175000000   \n",
       "\n",
       "                                         total_gross      runtime  \\\n",
       "0  {'domestic_gross': 486295561, 'worldwide_gross...  1 hr 37 min   \n",
       "1  {'domestic_gross': 532177324, 'worldwide_gross...  2 hr 13 min   \n",
       "2  {'domestic_gross': 408084349, 'worldwide_gross...  2 hr 27 min   \n",
       "3  {'domestic_gross': 368384330, 'worldwide_gross...  1 hr 27 min   \n",
       "4  {'domestic_gross': 364001123, 'worldwide_gross...  1 hr 46 min   \n",
       "\n",
       "  release_month release_year  world_gross  domestic_gross month_year  \n",
       "0           Jun         2016   1028570889       486295561   Jun 2016  \n",
       "1           Dec         2016   1056057273       532177324   Dec 2016  \n",
       "2           May         2016   1153296293       408084349   May 2016  \n",
       "3           Jul         2016    875457937       368384330   Jul 2016  \n",
       "4           Apr         2016    966550600       364001123   Apr 2016  "
      ]
     },
     "execution_count": 398,
     "metadata": {},
     "output_type": "execute_result"
    }
   ],
   "source": [
    "# a preview \n",
    "movie_df.head()"
   ]
  },
  {
   "cell_type": "code",
   "execution_count": null,
   "metadata": {},
   "outputs": [],
   "source": []
  },
  {
   "cell_type": "code",
   "execution_count": null,
   "metadata": {},
   "outputs": [],
   "source": []
  },
  {
   "cell_type": "code",
   "execution_count": null,
   "metadata": {},
   "outputs": [],
   "source": []
  },
  {
   "cell_type": "code",
   "execution_count": null,
   "metadata": {},
   "outputs": [],
   "source": []
  },
  {
   "cell_type": "code",
   "execution_count": 651,
   "metadata": {},
   "outputs": [
    {
     "data": {
      "text/plain": [
       "array(['Jun', 'Dec', 'May', 'Jul', 'Apr', 'Feb', 'Mar', 'Aug', 'Nov',\n",
       "       'Jan', 'Sep', 'Oct'], dtype=object)"
      ]
     },
     "execution_count": 651,
     "metadata": {},
     "output_type": "execute_result"
    }
   ],
   "source": [
    "#see the unique values of the release_month\n",
    "movie_df['release_month'].unique()"
   ]
  },
  {
   "cell_type": "code",
   "execution_count": 425,
   "metadata": {},
   "outputs": [
    {
     "data": {
      "text/html": [
       "<div>\n",
       "<style scoped>\n",
       "    .dataframe tbody tr th:only-of-type {\n",
       "        vertical-align: middle;\n",
       "    }\n",
       "\n",
       "    .dataframe tbody tr th {\n",
       "        vertical-align: top;\n",
       "    }\n",
       "\n",
       "    .dataframe thead th {\n",
       "        text-align: right;\n",
       "    }\n",
       "</style>\n",
       "<table border=\"1\" class=\"dataframe\">\n",
       "  <thead>\n",
       "    <tr style=\"text-align: right;\">\n",
       "      <th></th>\n",
       "      <th>title</th>\n",
       "      <th>release_date</th>\n",
       "      <th>genres</th>\n",
       "      <th>mpaa</th>\n",
       "      <th>budget_cost</th>\n",
       "      <th>total_gross</th>\n",
       "      <th>runtime</th>\n",
       "      <th>release_month</th>\n",
       "      <th>release_year</th>\n",
       "      <th>world_gross</th>\n",
       "      <th>domestic_gross</th>\n",
       "      <th>month_year</th>\n",
       "    </tr>\n",
       "  </thead>\n",
       "  <tbody>\n",
       "  </tbody>\n",
       "</table>\n",
       "</div>"
      ],
      "text/plain": [
       "Empty DataFrame\n",
       "Columns: [title, release_date, genres, mpaa, budget_cost, total_gross, runtime, release_month, release_year, world_gross, domestic_gross, month_year]\n",
       "Index: []"
      ]
     },
     "metadata": {},
     "output_type": "display_data"
    }
   ],
   "source": [
    "#below are all the wrong values that had dates we did want to keep. \n",
    "\n",
    "#(movie_df[movie_df['release_date'] == 'Kalyana']) = 'September 1, 2017' \n",
    "#(movie_df[movie_df['release_month'] == 'Rocky']) #May 5 2017\n",
    "#(movie_df[movie_df['release_month'] == 'Psycho']) #October 13, 2017\n",
    "#(movie_df[movie_df['release_month'] == 'Live']) # Nov 2, 2018\n",
    "#(movie_df[movie_df['release_month'] == 'Mamma']) #Jul 20, 2018\n",
    "#(movie_df[movie_df['release_month'] == 'The']) #Nov 8, 2019 doubled delete 3752, The Jesus Rolls Feb 28, 2020\n",
    "#(movie_df[movie_df['release_month'] == 'Gigi']) #Jun 29, 2018\n",
    "#(movie_df[movie_df['release_month'] == 'Jumanji']) #December 20, 2017\n",
    "#(movie_df[movie_df['release_month'] == 'Harold']) #September 7, 2018\n",
    "#(movie_df[movie_df['release_month'] == 'Avengers:']) # Avengers Endgame Apr 26, 2019 and Spider Man Far from Home Jul 2, 2019\n",
    "#(movie_df[movie_df['release_month'] == 'nan']) #Feb 25, 2013\n",
    "\n",
    "\n",
    "\n",
    "\n"
   ]
  },
  {
   "cell_type": "code",
   "execution_count": 433,
   "metadata": {},
   "outputs": [],
   "source": [
    "# I appended all of these manually with data from the original scrape site of Box office Mojo\n",
    "#(movie_df[movie_df['release_month'] == 'Rocky']) #May 5 2017\n",
    "#movie_df.loc[1205, 'release_date'] = 'May 5, 2017'"
   ]
  },
  {
   "cell_type": "code",
   "execution_count": 434,
   "metadata": {},
   "outputs": [
    {
     "data": {
      "text/plain": [
       "title                                                         Chuck\n",
       "release_date                                            May 5, 2017\n",
       "genres                              ['Biography', 'Drama', 'Sport']\n",
       "mpaa                                                              R\n",
       "budget_cost                                                     nan\n",
       "total_gross       {'domestic_gross': 320725, 'worldwide_gross': ...\n",
       "runtime                                                 1 hr 38 min\n",
       "release_month                                                 Rocky\n",
       "release_year                                                  Rocky\n",
       "world_gross                                                  502518\n",
       "domestic_gross                                               320725\n",
       "month_year                                              Rocky Rocky\n",
       "Name: 1205, dtype: object"
      ]
     },
     "execution_count": 434,
     "metadata": {},
     "output_type": "execute_result"
    }
   ],
   "source": [
    "#movie_df.loc[1205]"
   ]
  },
  {
   "cell_type": "code",
   "execution_count": 437,
   "metadata": {},
   "outputs": [],
   "source": [
    "#(movie_df[movie_df['release_month'] == 'Psycho']) #October 13, 2017\n",
    "#movie_df.loc[1391, 'release_date'] = 'October 13, 2017'"
   ]
  },
  {
   "cell_type": "code",
   "execution_count": 438,
   "metadata": {},
   "outputs": [
    {
     "data": {
      "text/plain": [
       "title                               78/52: Hitchcock's Shower Scene\n",
       "release_date                                       October 13, 2017\n",
       "genres                                              ['Documentary']\n",
       "mpaa                                                            NaN\n",
       "budget_cost                                                     nan\n",
       "total_gross       {'domestic_gross': 37664, 'worldwide_gross': 4...\n",
       "runtime                                                 1 hr 31 min\n",
       "release_month                                                Psycho\n",
       "release_year                                                 Psycho\n",
       "world_gross                                                   46838\n",
       "domestic_gross                                                37664\n",
       "month_year                                            Psycho Psycho\n",
       "Name: 1391, dtype: object"
      ]
     },
     "execution_count": 438,
     "metadata": {},
     "output_type": "execute_result"
    }
   ],
   "source": [
    "#movie_df.loc[1391]"
   ]
  },
  {
   "cell_type": "code",
   "execution_count": 440,
   "metadata": {},
   "outputs": [],
   "source": [
    "#changed date and deleted repeated data\n",
    "#(movie_df[movie_df['release_month'] == 'Live']) # Nov 2, 2018\n",
    "#movie_df.loc[1721, 'release_date'] = 'November 2, 2018'\n",
    "#movie_df.drop(2788, axis = 0, inplace = True)"
   ]
  },
  {
   "cell_type": "code",
   "execution_count": 441,
   "metadata": {},
   "outputs": [
    {
     "data": {
      "text/plain": [
       "title                                             Bohemian Rhapsody\n",
       "release_date                                       November 2, 2018\n",
       "genres                              ['Biography', 'Drama', 'Music']\n",
       "mpaa                                                          PG-13\n",
       "budget_cost                                                52000000\n",
       "total_gross       {'domestic_gross': 216428042, 'worldwide_gross...\n",
       "runtime                                                 2 hr 14 min\n",
       "release_month                                                  Live\n",
       "release_year                                                    Aid\n",
       "world_gross                                               903655259\n",
       "domestic_gross                                            216428042\n",
       "month_year                                                 Live Aid\n",
       "Name: 1721, dtype: object"
      ]
     },
     "execution_count": 441,
     "metadata": {},
     "output_type": "execute_result"
    }
   ],
   "source": [
    "#movie_df.loc[1721]"
   ]
  },
  {
   "cell_type": "code",
   "execution_count": 445,
   "metadata": {},
   "outputs": [
    {
     "data": {
      "text/html": [
       "<div>\n",
       "<style scoped>\n",
       "    .dataframe tbody tr th:only-of-type {\n",
       "        vertical-align: middle;\n",
       "    }\n",
       "\n",
       "    .dataframe tbody tr th {\n",
       "        vertical-align: top;\n",
       "    }\n",
       "\n",
       "    .dataframe thead th {\n",
       "        text-align: right;\n",
       "    }\n",
       "</style>\n",
       "<table border=\"1\" class=\"dataframe\">\n",
       "  <thead>\n",
       "    <tr style=\"text-align: right;\">\n",
       "      <th></th>\n",
       "      <th>title</th>\n",
       "      <th>release_date</th>\n",
       "      <th>genres</th>\n",
       "      <th>mpaa</th>\n",
       "      <th>budget_cost</th>\n",
       "      <th>total_gross</th>\n",
       "      <th>runtime</th>\n",
       "      <th>release_month</th>\n",
       "      <th>release_year</th>\n",
       "      <th>world_gross</th>\n",
       "      <th>domestic_gross</th>\n",
       "      <th>month_year</th>\n",
       "    </tr>\n",
       "  </thead>\n",
       "  <tbody>\n",
       "    <tr>\n",
       "      <th>1732</th>\n",
       "      <td>Mamma Mia! Here We Go Again</td>\n",
       "      <td>Mamma Mia!</td>\n",
       "      <td>['Comedy', 'Musical', 'Romance']</td>\n",
       "      <td>PG-13</td>\n",
       "      <td>75000000</td>\n",
       "      <td>{'domestic_gross': 120634935, 'worldwide_gross...</td>\n",
       "      <td>1 hr 54 min</td>\n",
       "      <td>Mamma</td>\n",
       "      <td>Mia!</td>\n",
       "      <td>395044706</td>\n",
       "      <td>120634935</td>\n",
       "      <td>Mamma Mia!</td>\n",
       "    </tr>\n",
       "  </tbody>\n",
       "</table>\n",
       "</div>"
      ],
      "text/plain": [
       "                            title release_date  \\\n",
       "1732  Mamma Mia! Here We Go Again   Mamma Mia!   \n",
       "\n",
       "                                genres   mpaa budget_cost  \\\n",
       "1732  ['Comedy', 'Musical', 'Romance']  PG-13    75000000   \n",
       "\n",
       "                                            total_gross      runtime  \\\n",
       "1732  {'domestic_gross': 120634935, 'worldwide_gross...  1 hr 54 min   \n",
       "\n",
       "     release_month release_year world_gross domestic_gross  month_year  \n",
       "1732         Mamma         Mia!   395044706      120634935  Mamma Mia!  "
      ]
     },
     "execution_count": 445,
     "metadata": {},
     "output_type": "execute_result"
    }
   ],
   "source": [
    "#(movie_df[movie_df['release_month'] == 'Mamma']) #Jul 20, 2018\n",
    "#movie_df.loc[1732, 'release_date'] = 'July 20, 2018'\n"
   ]
  },
  {
   "cell_type": "code",
   "execution_count": 446,
   "metadata": {},
   "outputs": [
    {
     "data": {
      "text/plain": [
       "title                                   Mamma Mia! Here We Go Again\n",
       "release_date                                             Mamma Mia!\n",
       "genres                             ['Comedy', 'Musical', 'Romance']\n",
       "mpaa                                                          PG-13\n",
       "budget_cost                                                75000000\n",
       "total_gross       {'domestic_gross': 120634935, 'worldwide_gross...\n",
       "runtime                                                 1 hr 54 min\n",
       "release_month                                                 Mamma\n",
       "release_year                                                   Mia!\n",
       "world_gross                                               395044706\n",
       "domestic_gross                                            120634935\n",
       "month_year                                               Mamma Mia!\n",
       "Name: 1732, dtype: object"
      ]
     },
     "execution_count": 446,
     "metadata": {},
     "output_type": "execute_result"
    }
   ],
   "source": [
    "#movie_df.loc[1732]"
   ]
  },
  {
   "cell_type": "code",
   "execution_count": 497,
   "metadata": {},
   "outputs": [
    {
     "data": {
      "text/html": [
       "<div>\n",
       "<style scoped>\n",
       "    .dataframe tbody tr th:only-of-type {\n",
       "        vertical-align: middle;\n",
       "    }\n",
       "\n",
       "    .dataframe tbody tr th {\n",
       "        vertical-align: top;\n",
       "    }\n",
       "\n",
       "    .dataframe thead th {\n",
       "        text-align: right;\n",
       "    }\n",
       "</style>\n",
       "<table border=\"1\" class=\"dataframe\">\n",
       "  <thead>\n",
       "    <tr style=\"text-align: right;\">\n",
       "      <th></th>\n",
       "      <th>title</th>\n",
       "      <th>release_date</th>\n",
       "      <th>genres</th>\n",
       "      <th>mpaa</th>\n",
       "      <th>budget_cost</th>\n",
       "      <th>total_gross</th>\n",
       "      <th>runtime</th>\n",
       "      <th>release_month</th>\n",
       "      <th>release_year</th>\n",
       "      <th>world_gross</th>\n",
       "      <th>domestic_gross</th>\n",
       "      <th>month_year</th>\n",
       "    </tr>\n",
       "  </thead>\n",
       "  <tbody>\n",
       "    <tr>\n",
       "      <th>3818</th>\n",
       "      <td>Circles</td>\n",
       "      <td>August 23, 2018</td>\n",
       "      <td>['Documentary', 'Drama']</td>\n",
       "      <td>NaN</td>\n",
       "      <td>nan</td>\n",
       "      <td>{'domestic_gross': 10260, 'worldwide_gross': 1...</td>\n",
       "      <td>1 hr 22 min</td>\n",
       "      <td>nan</td>\n",
       "      <td>nan</td>\n",
       "      <td>10260</td>\n",
       "      <td>10260</td>\n",
       "      <td>nan nan</td>\n",
       "    </tr>\n",
       "  </tbody>\n",
       "</table>\n",
       "</div>"
      ],
      "text/plain": [
       "        title     release_date                    genres mpaa budget_cost  \\\n",
       "3818  Circles  August 23, 2018  ['Documentary', 'Drama']  NaN         nan   \n",
       "\n",
       "                                            total_gross      runtime  \\\n",
       "3818  {'domestic_gross': 10260, 'worldwide_gross': 1...  1 hr 22 min   \n",
       "\n",
       "     release_month release_year world_gross domestic_gross month_year  \n",
       "3818           nan          nan       10260          10260    nan nan  "
      ]
     },
     "execution_count": 497,
     "metadata": {},
     "output_type": "execute_result"
    }
   ],
   "source": [
    "#(movie_df[movie_df['release_month'] == 'Gigi']) #Jun 29, 2018\n",
    "#(movie_df[movie_df['release_month'] == 'Jumanji']) #December 20, 2017\n",
    "#(movie_df[movie_df['release_month'] == 'Harold']) #September 7, 2018\n",
    "#(movie_df[movie_df['release_month'] == 'Avengers:']) # Avengers Endgame Apr 26, 2019 and Spider Man Far from Home Jul 2, 2019\n",
    "#(movie_df[movie_df['release_month'] == 'nan']) #Feb 25, 2013\n",
    "\n",
    "\n"
   ]
  },
  {
   "cell_type": "code",
   "execution_count": 466,
   "metadata": {},
   "outputs": [],
   "source": [
    "#we re-ran this code from the start to reformat all the dates that we appended into the year and month columns\n",
    "(movie_df[movie_df['release_month'] == 'Gigi']) #Jun 29, 2018\n",
    "movie_df.loc[2252, 'release_date'] = 'June 29, 2018'"
   ]
  },
  {
   "cell_type": "code",
   "execution_count": 469,
   "metadata": {},
   "outputs": [],
   "source": [
    "(movie_df[movie_df['release_month'] == 'Jumanji']) #December 20, 2017\n",
    "movie_df.loc[2362, 'release_date'] = 'December 20, 2017'\n",
    "\n"
   ]
  },
  {
   "cell_type": "code",
   "execution_count": 472,
   "metadata": {},
   "outputs": [],
   "source": [
    "(movie_df[movie_df['release_month'] == 'Harold']) #September 7, 2018\n",
    "movie_df.loc[2363, 'release_date'] = 'September 7, 2018'"
   ]
  },
  {
   "cell_type": "code",
   "execution_count": 475,
   "metadata": {},
   "outputs": [],
   "source": [
    "(movie_df[movie_df['release_month'] == 'Avengers:']) # Avengers Endgame Apr 26, 2019 and Spider Man Far from Home Jul 2, 2019\n",
    "movie_df.loc[2701, 'release_date'] = 'April 26, 2019'\n",
    "movie_df.loc[2707, 'release_date'] = 'July 2, 2019'\n"
   ]
  },
  {
   "cell_type": "code",
   "execution_count": 477,
   "metadata": {},
   "outputs": [
    {
     "data": {
      "text/plain": [
       "title                                     Spider-Man: Far from Home\n",
       "release_date                                           July 2, 2019\n",
       "genres                            ['Action', 'Adventure', 'Sci-Fi']\n",
       "mpaa                                                          PG-13\n",
       "budget_cost                                               160000000\n",
       "total_gross       {'domestic_gross': 390532085, 'worldwide_gross...\n",
       "runtime                                                  2 hr 9 min\n",
       "release_month                                             Avengers:\n",
       "release_year                                                Endgame\n",
       "world_gross                                              1131927996\n",
       "domestic_gross                                            390532085\n",
       "month_year                                        Avengers: Endgame\n",
       "Name: 2707, dtype: object"
      ]
     },
     "execution_count": 477,
     "metadata": {},
     "output_type": "execute_result"
    }
   ],
   "source": [
    "movie_df.loc[2707]"
   ]
  },
  {
   "cell_type": "code",
   "execution_count": 479,
   "metadata": {},
   "outputs": [],
   "source": [
    "(movie_df[movie_df['release_month'] == 'nan']) #Aug 23 2018\n",
    "movie_df.loc[3818, 'release_date'] = 'August 23, 2018'"
   ]
  },
  {
   "cell_type": "code",
   "execution_count": 480,
   "metadata": {},
   "outputs": [
    {
     "data": {
      "text/plain": [
       "title                                                       Circles\n",
       "release_date                                        August 23, 2018\n",
       "genres                                     ['Documentary', 'Drama']\n",
       "mpaa                                                            NaN\n",
       "budget_cost                                                     nan\n",
       "total_gross       {'domestic_gross': 10260, 'worldwide_gross': 1...\n",
       "runtime                                                 1 hr 22 min\n",
       "release_month                                                   nan\n",
       "release_year                                                    nan\n",
       "world_gross                                                   10260\n",
       "domestic_gross                                                10260\n",
       "month_year                                                  nan nan\n",
       "Name: 3818, dtype: object"
      ]
     },
     "execution_count": 480,
     "metadata": {},
     "output_type": "execute_result"
    }
   ],
   "source": [
    "movie_df.loc[3818]"
   ]
  },
  {
   "cell_type": "code",
   "execution_count": null,
   "metadata": {},
   "outputs": [],
   "source": []
  },
  {
   "cell_type": "code",
   "execution_count": null,
   "metadata": {},
   "outputs": [],
   "source": []
  },
  {
   "cell_type": "code",
   "execution_count": 481,
   "metadata": {},
   "outputs": [],
   "source": [
    "(movie_df[movie_df['release_month'] == 'The'])\n",
    "#Nov 8, 2019 doubled delete 3752, The Jesus Rolls Feb 28, 2020\n",
    "\n",
    "movie_df.loc[3787, 'release_date'] = 'February 28, 2020'\n",
    "movie_df.loc[2778, 'release_date'] = 'November 8, 2019'\n",
    "\n"
   ]
  },
  {
   "cell_type": "code",
   "execution_count": 482,
   "metadata": {},
   "outputs": [
    {
     "data": {
      "text/html": [
       "<div>\n",
       "<style scoped>\n",
       "    .dataframe tbody tr th:only-of-type {\n",
       "        vertical-align: middle;\n",
       "    }\n",
       "\n",
       "    .dataframe tbody tr th {\n",
       "        vertical-align: top;\n",
       "    }\n",
       "\n",
       "    .dataframe thead th {\n",
       "        text-align: right;\n",
       "    }\n",
       "</style>\n",
       "<table border=\"1\" class=\"dataframe\">\n",
       "  <thead>\n",
       "    <tr style=\"text-align: right;\">\n",
       "      <th></th>\n",
       "      <th>title</th>\n",
       "      <th>release_date</th>\n",
       "      <th>genres</th>\n",
       "      <th>mpaa</th>\n",
       "      <th>budget_cost</th>\n",
       "      <th>total_gross</th>\n",
       "      <th>runtime</th>\n",
       "      <th>release_month</th>\n",
       "      <th>release_year</th>\n",
       "      <th>world_gross</th>\n",
       "      <th>domestic_gross</th>\n",
       "      <th>month_year</th>\n",
       "    </tr>\n",
       "  </thead>\n",
       "  <tbody>\n",
       "    <tr>\n",
       "      <th>2778</th>\n",
       "      <td>Doctor Sleep</td>\n",
       "      <td>November 8, 2019</td>\n",
       "      <td>['Drama', 'Fantasy', 'Horror', 'Thriller']</td>\n",
       "      <td>R</td>\n",
       "      <td>45000000</td>\n",
       "      <td>{'domestic_gross': 31581712, 'worldwide_gross'...</td>\n",
       "      <td>2 hr 32 min</td>\n",
       "      <td>The</td>\n",
       "      <td>Shining</td>\n",
       "      <td>72381712</td>\n",
       "      <td>31581712</td>\n",
       "      <td>The Shining</td>\n",
       "    </tr>\n",
       "    <tr>\n",
       "      <th>3787</th>\n",
       "      <td>The Jesus Rolls</td>\n",
       "      <td>February 28, 2020</td>\n",
       "      <td>['Comedy', 'Crime', 'Drama', 'Romance']</td>\n",
       "      <td>R</td>\n",
       "      <td>nan</td>\n",
       "      <td>{'domestic_gross': 18169, 'worldwide_gross': 6...</td>\n",
       "      <td>1 hr 25 min</td>\n",
       "      <td>The</td>\n",
       "      <td>Lebowski</td>\n",
       "      <td>64648</td>\n",
       "      <td>18169</td>\n",
       "      <td>The Lebowski</td>\n",
       "    </tr>\n",
       "  </tbody>\n",
       "</table>\n",
       "</div>"
      ],
      "text/plain": [
       "                title       release_date  \\\n",
       "2778     Doctor Sleep   November 8, 2019   \n",
       "3787  The Jesus Rolls  February 28, 2020   \n",
       "\n",
       "                                          genres mpaa budget_cost  \\\n",
       "2778  ['Drama', 'Fantasy', 'Horror', 'Thriller']    R    45000000   \n",
       "3787     ['Comedy', 'Crime', 'Drama', 'Romance']    R         nan   \n",
       "\n",
       "                                            total_gross      runtime  \\\n",
       "2778  {'domestic_gross': 31581712, 'worldwide_gross'...  2 hr 32 min   \n",
       "3787  {'domestic_gross': 18169, 'worldwide_gross': 6...  1 hr 25 min   \n",
       "\n",
       "     release_month release_year world_gross domestic_gross    month_year  \n",
       "2778           The      Shining    72381712       31581712   The Shining  \n",
       "3787           The     Lebowski       64648          18169  The Lebowski  "
      ]
     },
     "execution_count": 482,
     "metadata": {},
     "output_type": "execute_result"
    }
   ],
   "source": [
    "(movie_df[movie_df['release_month'] == 'The'])"
   ]
  },
  {
   "cell_type": "code",
   "execution_count": null,
   "metadata": {},
   "outputs": [],
   "source": []
  },
  {
   "cell_type": "code",
   "execution_count": 515,
   "metadata": {},
   "outputs": [
    {
     "data": {
      "text/plain": [
       "title                                                  Doctor Sleep\n",
       "release_date                                       November 8, 2019\n",
       "genres                   ['Drama', 'Fantasy', 'Horror', 'Thriller']\n",
       "mpaa                                                              R\n",
       "budget_cost                                                45000000\n",
       "total_gross       {'domestic_gross': 31581712, 'worldwide_gross'...\n",
       "runtime                                                 2 hr 32 min\n",
       "release_month                                              November\n",
       "release_year                                                   2019\n",
       "world_gross                                                72381712\n",
       "domestic_gross                                             31581712\n",
       "month_year                                            November 2019\n",
       "Name: 2778, dtype: object"
      ]
     },
     "execution_count": 515,
     "metadata": {},
     "output_type": "execute_result"
    }
   ],
   "source": [
    "#checking every movie to ensure the release date is correct \n",
    "movie_df.loc[2778]"
   ]
  },
  {
   "cell_type": "markdown",
   "metadata": {},
   "source": []
  },
  {
   "cell_type": "code",
   "execution_count": 517,
   "metadata": {},
   "outputs": [],
   "source": [
    "#display(movie_df[movie_df['release_month'] == 'Sailor'].index) #delete\n",
    "#display(movie_df[movie_df['release_month'] == 'Harry'].index) #delte\n",
    "#display(movie_df[movie_df['release_month'] == 'Star'].index) #delete\n",
    "#display(movie_df[movie_df['release_month'] == 'An'].index) #delete\n",
    "#display(movie_df[movie_df['release_month'] == 'Marius'].index) #delete\n",
    "#display(movie_df[movie_df['release_month'] == 'Mickey'].index) #delete\n",
    "#display(movie_df[movie_df['release_month'] == 'Wrath'].index) #delete\n",
    "#display(movie_df[movie_df['release_month'] == 'Dragon'].index)#delete\n",
    "#display(movie_df[movie_df['release_month'] == 'A'].index) #delete\n",
    "#display(movie_df[movie_df['release_month'] == 'Raiders'].index) #delete\n",
    "#display(movie_df[movie_df['release_month'] == '60'].index) #delete\n",
    "#display(movie_df[movie_df['release_month'] == 'Friends'].index) #delete\n",
    "#display(movie_df[movie_df['release_month'] == 'Logopolis:'].index) #delete\n",
    "#display(movie_df[movie_df['release_month'] == 'Tiger'].index) #delete\n",
    "#display(movie_df[movie_df['release_month'] == 'Doctor'].index) #delete\n",
    "\n",
    "#index_numbers = [2098, 231, 465, 707, 3054, 1038, 839, 1423, \n",
    "                 #2033, 2048, 2489, 3653, 478, 3087, 3115, 3143, 3194, 3497, 3702]\n",
    "\n",
    "#movie_df.drop(index_numbers, axis = 0, inplace = True)\n",
    "   \n",
    "    "
   ]
  },
  {
   "cell_type": "code",
   "execution_count": 529,
   "metadata": {},
   "outputs": [
    {
     "data": {
      "text/html": [
       "<div>\n",
       "<style scoped>\n",
       "    .dataframe tbody tr th:only-of-type {\n",
       "        vertical-align: middle;\n",
       "    }\n",
       "\n",
       "    .dataframe tbody tr th {\n",
       "        vertical-align: top;\n",
       "    }\n",
       "\n",
       "    .dataframe thead th {\n",
       "        text-align: right;\n",
       "    }\n",
       "</style>\n",
       "<table border=\"1\" class=\"dataframe\">\n",
       "  <thead>\n",
       "    <tr style=\"text-align: right;\">\n",
       "      <th></th>\n",
       "      <th>title</th>\n",
       "      <th>release_date</th>\n",
       "      <th>genres</th>\n",
       "      <th>mpaa</th>\n",
       "      <th>budget_cost</th>\n",
       "      <th>total_gross</th>\n",
       "      <th>runtime</th>\n",
       "      <th>release_month</th>\n",
       "      <th>release_year</th>\n",
       "      <th>world_gross</th>\n",
       "      <th>domestic_gross</th>\n",
       "      <th>month_year</th>\n",
       "    </tr>\n",
       "  </thead>\n",
       "  <tbody>\n",
       "    <tr>\n",
       "      <th>1197</th>\n",
       "      <td>Disney Junior HalloVeen Party!</td>\n",
       "      <td>Mickey Mouse Mixed-Up Adventures</td>\n",
       "      <td>[]</td>\n",
       "      <td>NaN</td>\n",
       "      <td>nan</td>\n",
       "      <td>{'domestic_gross': 359745, 'worldwide_gross': ...</td>\n",
       "      <td>46 min</td>\n",
       "      <td>Mickey</td>\n",
       "      <td>Adventures</td>\n",
       "      <td>359745</td>\n",
       "      <td>359745</td>\n",
       "      <td>Mickey Adventures</td>\n",
       "    </tr>\n",
       "  </tbody>\n",
       "</table>\n",
       "</div>"
      ],
      "text/plain": [
       "                               title                      release_date genres  \\\n",
       "1197  Disney Junior HalloVeen Party!  Mickey Mouse Mixed-Up Adventures     []   \n",
       "\n",
       "     mpaa budget_cost                                        total_gross  \\\n",
       "1197  NaN         nan  {'domestic_gross': 359745, 'worldwide_gross': ...   \n",
       "\n",
       "     runtime release_month release_year world_gross domestic_gross  \\\n",
       "1197  46 min        Mickey   Adventures      359745         359745   \n",
       "\n",
       "             month_year  \n",
       "1197  Mickey Adventures  "
      ]
     },
     "metadata": {},
     "output_type": "display_data"
    }
   ],
   "source": [
    "display(movie_df[movie_df['release_month'] == 'Mickey'])"
   ]
  },
  {
   "cell_type": "code",
   "execution_count": 530,
   "metadata": {},
   "outputs": [],
   "source": [
    "movie_df.drop(1197, axis = 0, inplace = True)"
   ]
  },
  {
   "cell_type": "code",
   "execution_count": 533,
   "metadata": {},
   "outputs": [
    {
     "data": {
      "text/html": [
       "<div>\n",
       "<style scoped>\n",
       "    .dataframe tbody tr th:only-of-type {\n",
       "        vertical-align: middle;\n",
       "    }\n",
       "\n",
       "    .dataframe tbody tr th {\n",
       "        vertical-align: top;\n",
       "    }\n",
       "\n",
       "    .dataframe thead th {\n",
       "        text-align: right;\n",
       "    }\n",
       "</style>\n",
       "<table border=\"1\" class=\"dataframe\">\n",
       "  <thead>\n",
       "    <tr style=\"text-align: right;\">\n",
       "      <th></th>\n",
       "      <th>title</th>\n",
       "      <th>release_date</th>\n",
       "      <th>genres</th>\n",
       "      <th>mpaa</th>\n",
       "      <th>budget_cost</th>\n",
       "      <th>total_gross</th>\n",
       "      <th>runtime</th>\n",
       "      <th>release_month</th>\n",
       "      <th>release_year</th>\n",
       "      <th>world_gross</th>\n",
       "      <th>domestic_gross</th>\n",
       "      <th>month_year</th>\n",
       "    </tr>\n",
       "  </thead>\n",
       "  <tbody>\n",
       "    <tr>\n",
       "      <th>1732</th>\n",
       "      <td>Mamma Mia! Here We Go Again</td>\n",
       "      <td>Mamma Mia!</td>\n",
       "      <td>['Comedy', 'Musical', 'Romance']</td>\n",
       "      <td>PG-13</td>\n",
       "      <td>75000000</td>\n",
       "      <td>{'domestic_gross': 120634935, 'worldwide_gross...</td>\n",
       "      <td>1 hr 54 min</td>\n",
       "      <td>Mamma</td>\n",
       "      <td>Mia!</td>\n",
       "      <td>395044706</td>\n",
       "      <td>120634935</td>\n",
       "      <td>Mamma Mia!</td>\n",
       "    </tr>\n",
       "  </tbody>\n",
       "</table>\n",
       "</div>"
      ],
      "text/plain": [
       "                            title release_date  \\\n",
       "1732  Mamma Mia! Here We Go Again   Mamma Mia!   \n",
       "\n",
       "                                genres   mpaa budget_cost  \\\n",
       "1732  ['Comedy', 'Musical', 'Romance']  PG-13    75000000   \n",
       "\n",
       "                                            total_gross      runtime  \\\n",
       "1732  {'domestic_gross': 120634935, 'worldwide_gross...  1 hr 54 min   \n",
       "\n",
       "     release_month release_year world_gross domestic_gross  month_year  \n",
       "1732         Mamma         Mia!   395044706      120634935  Mamma Mia!  "
      ]
     },
     "metadata": {},
     "output_type": "display_data"
    }
   ],
   "source": [
    "display(movie_df[movie_df['release_month'] == 'Mamma'])\n",
    "movie_df.loc[1732, 'release_date'] = 'July 18, 2018'"
   ]
  },
  {
   "cell_type": "code",
   "execution_count": 534,
   "metadata": {},
   "outputs": [
    {
     "data": {
      "text/plain": [
       "title                                   Mamma Mia! Here We Go Again\n",
       "release_date                                          July 18, 2018\n",
       "genres                             ['Comedy', 'Musical', 'Romance']\n",
       "mpaa                                                          PG-13\n",
       "budget_cost                                                75000000\n",
       "total_gross       {'domestic_gross': 120634935, 'worldwide_gross...\n",
       "runtime                                                 1 hr 54 min\n",
       "release_month                                                 Mamma\n",
       "release_year                                                   Mia!\n",
       "world_gross                                               395044706\n",
       "domestic_gross                                            120634935\n",
       "month_year                                               Mamma Mia!\n",
       "Name: 1732, dtype: object"
      ]
     },
     "execution_count": 534,
     "metadata": {},
     "output_type": "execute_result"
    }
   ],
   "source": [
    "movie_df.loc[1732]"
   ]
  },
  {
   "cell_type": "code",
   "execution_count": 188,
   "metadata": {},
   "outputs": [
    {
     "data": {
      "text/plain": [
       "dict"
      ]
     },
     "execution_count": 188,
     "metadata": {},
     "output_type": "execute_result"
    }
   ],
   "source": []
  },
  {
   "cell_type": "code",
   "execution_count": 540,
   "metadata": {},
   "outputs": [],
   "source": [
    "#re applied again for a couple more \n",
    "movie_df['release_date'] = movie_df.release_date.astype(str)\n",
    "movie_df['release_month'] = (movie_df['release_date'].apply(lambda x: x[0:3])) #x.split() \n",
    "movie_df['release_year'] = movie_df['release_date'].apply(lambda x: x.split()[-1])\n",
    "movie_df['month_year'] = movie_df['release_month'] + ' ' + movie_df['release_year']"
   ]
  },
  {
   "cell_type": "code",
   "execution_count": 541,
   "metadata": {},
   "outputs": [
    {
     "data": {
      "text/plain": [
       "title                                   Mamma Mia! Here We Go Again\n",
       "release_date                                          July 18, 2018\n",
       "genres                             ['Comedy', 'Musical', 'Romance']\n",
       "mpaa                                                          PG-13\n",
       "budget_cost                                                75000000\n",
       "total_gross       {'domestic_gross': 120634935, 'worldwide_gross...\n",
       "runtime                                                 1 hr 54 min\n",
       "release_month                                                   Jul\n",
       "release_year                                                   2018\n",
       "world_gross                                               395044706\n",
       "domestic_gross                                            120634935\n",
       "month_year                                                 Jul 2018\n",
       "Name: 1732, dtype: object"
      ]
     },
     "execution_count": 541,
     "metadata": {},
     "output_type": "execute_result"
    }
   ],
   "source": [
    "movie_df.loc[1732]"
   ]
  },
  {
   "cell_type": "code",
   "execution_count": null,
   "metadata": {},
   "outputs": [],
   "source": []
  },
  {
   "cell_type": "code",
   "execution_count": 544,
   "metadata": {},
   "outputs": [],
   "source": [
    "#movie_final[movie_final['release_date'] == 'September 1, 2017']\n",
    "#movie_final.drop(1148, axis = 0, inplace = True)"
   ]
  },
  {
   "cell_type": "code",
   "execution_count": null,
   "metadata": {},
   "outputs": [],
   "source": []
  },
  {
   "cell_type": "code",
   "execution_count": 548,
   "metadata": {},
   "outputs": [
    {
     "data": {
      "text/plain": [
       "array(['Jun', 'Dec', 'May', 'Jul', 'Apr', 'Feb', 'Mar', 'Aug', 'Nov',\n",
       "       'Jan', 'Sep', 'Oct'], dtype=object)"
      ]
     },
     "execution_count": 548,
     "metadata": {},
     "output_type": "execute_result"
    }
   ],
   "source": [
    "#succesfully have 12 months\n",
    "#movie_df['release_month'].unique()"
   ]
  },
  {
   "cell_type": "code",
   "execution_count": 550,
   "metadata": {},
   "outputs": [],
   "source": [
    "#made a copy \n",
    "movie_final = movie_df.copy()\n"
   ]
  },
  {
   "cell_type": "code",
   "execution_count": 552,
   "metadata": {},
   "outputs": [
    {
     "data": {
      "text/html": [
       "<div>\n",
       "<style scoped>\n",
       "    .dataframe tbody tr th:only-of-type {\n",
       "        vertical-align: middle;\n",
       "    }\n",
       "\n",
       "    .dataframe tbody tr th {\n",
       "        vertical-align: top;\n",
       "    }\n",
       "\n",
       "    .dataframe thead th {\n",
       "        text-align: right;\n",
       "    }\n",
       "</style>\n",
       "<table border=\"1\" class=\"dataframe\">\n",
       "  <thead>\n",
       "    <tr style=\"text-align: right;\">\n",
       "      <th></th>\n",
       "      <th>title</th>\n",
       "      <th>release_date</th>\n",
       "      <th>genres</th>\n",
       "      <th>mpaa</th>\n",
       "      <th>budget_cost</th>\n",
       "      <th>total_gross</th>\n",
       "      <th>runtime</th>\n",
       "      <th>release_month</th>\n",
       "      <th>release_year</th>\n",
       "      <th>world_gross</th>\n",
       "      <th>domestic_gross</th>\n",
       "      <th>month_year</th>\n",
       "    </tr>\n",
       "  </thead>\n",
       "  <tbody>\n",
       "    <tr>\n",
       "      <th>1148</th>\n",
       "      <td>September 1, 2017</td>\n",
       "      <td>September 1, 2017</td>\n",
       "      <td>September 1, 2017</td>\n",
       "      <td>September 1, 2017</td>\n",
       "      <td>September 1 2017</td>\n",
       "      <td>September 1, 2017</td>\n",
       "      <td>September 1, 2017</td>\n",
       "      <td>Sep</td>\n",
       "      <td>2017</td>\n",
       "      <td>September 1, 2017</td>\n",
       "      <td>September 1, 2017</td>\n",
       "      <td>Sep 2017</td>\n",
       "    </tr>\n",
       "  </tbody>\n",
       "</table>\n",
       "</div>"
      ],
      "text/plain": [
       "                  title       release_date             genres  \\\n",
       "1148  September 1, 2017  September 1, 2017  September 1, 2017   \n",
       "\n",
       "                   mpaa       budget_cost        total_gross  \\\n",
       "1148  September 1, 2017  September 1 2017  September 1, 2017   \n",
       "\n",
       "                runtime release_month release_year        world_gross  \\\n",
       "1148  September 1, 2017           Sep         2017  September 1, 2017   \n",
       "\n",
       "         domestic_gross month_year  \n",
       "1148  September 1, 2017   Sep 2017  "
      ]
     },
     "execution_count": 552,
     "metadata": {},
     "output_type": "execute_result"
    }
   ],
   "source": [
    "#one outlier was proving difficult \n",
    "movie_df[movie_df['release_date'] == 'September 1, 2017']"
   ]
  },
  {
   "cell_type": "code",
   "execution_count": 553,
   "metadata": {},
   "outputs": [],
   "source": [
    "#dropped it\n",
    "movie_df.drop(1148, axis = 0, inplace = True)"
   ]
  },
  {
   "cell_type": "code",
   "execution_count": 554,
   "metadata": {},
   "outputs": [],
   "source": [
    "#remade copy \n",
    "movie_final = movie_df.copy()\n",
    "\n",
    "movie_df['domestic_gross'] = movie_df['total_gross'].apply(lambda x: ast.literal_eval(x)['domestic_gross'])"
   ]
  },
  {
   "cell_type": "code",
   "execution_count": 579,
   "metadata": {},
   "outputs": [],
   "source": [
    "genre = ast.literal_eval(movie_df.genres[0])"
   ]
  },
  {
   "cell_type": "code",
   "execution_count": 589,
   "metadata": {},
   "outputs": [],
   "source": [
    "movie_df['genres'] = movie_df.genres.apply(lambda x: ast.literal_eval(x))"
   ]
  },
  {
   "cell_type": "code",
   "execution_count": 639,
   "metadata": {},
   "outputs": [],
   "source": [
    "movie_df['genre_1'] = movie_df.genres.apply(lambda x: x[0] if len(x) > 0 else [])"
   ]
  },
  {
   "cell_type": "code",
   "execution_count": 640,
   "metadata": {},
   "outputs": [],
   "source": [
    "movie_df['genre_1'] =movie_df['genre_1'].astype(str)"
   ]
  },
  {
   "cell_type": "code",
   "execution_count": 641,
   "metadata": {},
   "outputs": [
    {
     "data": {
      "text/plain": [
       "27"
      ]
     },
     "execution_count": 641,
     "metadata": {},
     "output_type": "execute_result"
    }
   ],
   "source": [
    "len(movie_df.genre_1.unique())"
   ]
  },
  {
   "cell_type": "code",
   "execution_count": 654,
   "metadata": {},
   "outputs": [
    {
     "data": {
      "text/plain": [
       "title                0\n",
       "release_date         0\n",
       "genres               0\n",
       "mpaa              2049\n",
       "budget_cost          0\n",
       "total_gross          0\n",
       "runtime             43\n",
       "release_month        0\n",
       "release_year         0\n",
       "world_gross          0\n",
       "domestic_gross       0\n",
       "month_year           0\n",
       "genre_1              0\n",
       "dtype: int64"
      ]
     },
     "execution_count": 654,
     "metadata": {},
     "output_type": "execute_result"
    }
   ],
   "source": [
    "movie_df.isna().sum()"
   ]
  },
  {
   "cell_type": "code",
   "execution_count": 655,
   "metadata": {},
   "outputs": [
    {
     "data": {
      "text/html": [
       "<div>\n",
       "<style scoped>\n",
       "    .dataframe tbody tr th:only-of-type {\n",
       "        vertical-align: middle;\n",
       "    }\n",
       "\n",
       "    .dataframe tbody tr th {\n",
       "        vertical-align: top;\n",
       "    }\n",
       "\n",
       "    .dataframe thead th {\n",
       "        text-align: right;\n",
       "    }\n",
       "</style>\n",
       "<table border=\"1\" class=\"dataframe\">\n",
       "  <thead>\n",
       "    <tr style=\"text-align: right;\">\n",
       "      <th></th>\n",
       "      <th>title</th>\n",
       "      <th>release_date</th>\n",
       "      <th>genres</th>\n",
       "      <th>mpaa</th>\n",
       "      <th>budget_cost</th>\n",
       "      <th>total_gross</th>\n",
       "      <th>runtime</th>\n",
       "      <th>release_month</th>\n",
       "      <th>release_year</th>\n",
       "      <th>world_gross</th>\n",
       "      <th>domestic_gross</th>\n",
       "      <th>month_year</th>\n",
       "      <th>genre_1</th>\n",
       "    </tr>\n",
       "  </thead>\n",
       "  <tbody>\n",
       "    <tr>\n",
       "      <th>0</th>\n",
       "      <td>Finding Dory</td>\n",
       "      <td>Jun 17, 2016</td>\n",
       "      <td>[Adventure, Animation, Comedy, Family]</td>\n",
       "      <td>PG</td>\n",
       "      <td>nan</td>\n",
       "      <td>{'domestic_gross': 486295561, 'worldwide_gross...</td>\n",
       "      <td>1 hr 37 min</td>\n",
       "      <td>Jun</td>\n",
       "      <td>2016</td>\n",
       "      <td>1028570889</td>\n",
       "      <td>486295561</td>\n",
       "      <td>Jun 2016</td>\n",
       "      <td>Adventure</td>\n",
       "    </tr>\n",
       "    <tr>\n",
       "      <th>1</th>\n",
       "      <td>Rogue One: A Star Wars Story</td>\n",
       "      <td>Dec 16, 2016</td>\n",
       "      <td>[Action, Adventure, Sci-Fi]</td>\n",
       "      <td>PG-13</td>\n",
       "      <td>200000000</td>\n",
       "      <td>{'domestic_gross': 532177324, 'worldwide_gross...</td>\n",
       "      <td>2 hr 13 min</td>\n",
       "      <td>Dec</td>\n",
       "      <td>2016</td>\n",
       "      <td>1056057273</td>\n",
       "      <td>532177324</td>\n",
       "      <td>Dec 2016</td>\n",
       "      <td>Action</td>\n",
       "    </tr>\n",
       "    <tr>\n",
       "      <th>2</th>\n",
       "      <td>Captain America: Civil War</td>\n",
       "      <td>May 6, 2016</td>\n",
       "      <td>[Action, Adventure, Sci-Fi]</td>\n",
       "      <td>PG-13</td>\n",
       "      <td>250000000</td>\n",
       "      <td>{'domestic_gross': 408084349, 'worldwide_gross...</td>\n",
       "      <td>2 hr 27 min</td>\n",
       "      <td>May</td>\n",
       "      <td>2016</td>\n",
       "      <td>1153296293</td>\n",
       "      <td>408084349</td>\n",
       "      <td>May 2016</td>\n",
       "      <td>Action</td>\n",
       "    </tr>\n",
       "    <tr>\n",
       "      <th>3</th>\n",
       "      <td>The Secret Life of Pets</td>\n",
       "      <td>Jul 8, 2016</td>\n",
       "      <td>[Adventure, Animation, Comedy, Family]</td>\n",
       "      <td>PG</td>\n",
       "      <td>75000000</td>\n",
       "      <td>{'domestic_gross': 368384330, 'worldwide_gross...</td>\n",
       "      <td>1 hr 27 min</td>\n",
       "      <td>Jul</td>\n",
       "      <td>2016</td>\n",
       "      <td>875457937</td>\n",
       "      <td>368384330</td>\n",
       "      <td>Jul 2016</td>\n",
       "      <td>Adventure</td>\n",
       "    </tr>\n",
       "    <tr>\n",
       "      <th>4</th>\n",
       "      <td>The Jungle Book</td>\n",
       "      <td>Apr 15, 2016</td>\n",
       "      <td>[Adventure, Drama, Family, Fantasy]</td>\n",
       "      <td>PG</td>\n",
       "      <td>175000000</td>\n",
       "      <td>{'domestic_gross': 364001123, 'worldwide_gross...</td>\n",
       "      <td>1 hr 46 min</td>\n",
       "      <td>Apr</td>\n",
       "      <td>2016</td>\n",
       "      <td>966550600</td>\n",
       "      <td>364001123</td>\n",
       "      <td>Apr 2016</td>\n",
       "      <td>Adventure</td>\n",
       "    </tr>\n",
       "  </tbody>\n",
       "</table>\n",
       "</div>"
      ],
      "text/plain": [
       "                          title  release_date  \\\n",
       "0                  Finding Dory  Jun 17, 2016   \n",
       "1  Rogue One: A Star Wars Story  Dec 16, 2016   \n",
       "2    Captain America: Civil War   May 6, 2016   \n",
       "3       The Secret Life of Pets   Jul 8, 2016   \n",
       "4               The Jungle Book  Apr 15, 2016   \n",
       "\n",
       "                                   genres   mpaa budget_cost  \\\n",
       "0  [Adventure, Animation, Comedy, Family]     PG         nan   \n",
       "1             [Action, Adventure, Sci-Fi]  PG-13   200000000   \n",
       "2             [Action, Adventure, Sci-Fi]  PG-13   250000000   \n",
       "3  [Adventure, Animation, Comedy, Family]     PG    75000000   \n",
       "4     [Adventure, Drama, Family, Fantasy]     PG   175000000   \n",
       "\n",
       "                                         total_gross      runtime  \\\n",
       "0  {'domestic_gross': 486295561, 'worldwide_gross...  1 hr 37 min   \n",
       "1  {'domestic_gross': 532177324, 'worldwide_gross...  2 hr 13 min   \n",
       "2  {'domestic_gross': 408084349, 'worldwide_gross...  2 hr 27 min   \n",
       "3  {'domestic_gross': 368384330, 'worldwide_gross...  1 hr 27 min   \n",
       "4  {'domestic_gross': 364001123, 'worldwide_gross...  1 hr 46 min   \n",
       "\n",
       "  release_month release_year  world_gross  domestic_gross month_year  \\\n",
       "0           Jun         2016   1028570889       486295561   Jun 2016   \n",
       "1           Dec         2016   1056057273       532177324   Dec 2016   \n",
       "2           May         2016   1153296293       408084349   May 2016   \n",
       "3           Jul         2016    875457937       368384330   Jul 2016   \n",
       "4           Apr         2016    966550600       364001123   Apr 2016   \n",
       "\n",
       "     genre_1  \n",
       "0  Adventure  \n",
       "1     Action  \n",
       "2     Action  \n",
       "3  Adventure  \n",
       "4  Adventure  "
      ]
     },
     "execution_count": 655,
     "metadata": {},
     "output_type": "execute_result"
    }
   ],
   "source": [
    "movie_df.head()"
   ]
  },
  {
   "cell_type": "code",
   "execution_count": 658,
   "metadata": {},
   "outputs": [
    {
     "data": {
      "text/plain": [
       "str"
      ]
     },
     "execution_count": 658,
     "metadata": {},
     "output_type": "execute_result"
    }
   ],
   "source": [
    "movie_df.budget_cost[0]"
   ]
  },
  {
   "cell_type": "code",
   "execution_count": 660,
   "metadata": {},
   "outputs": [
    {
     "data": {
      "text/plain": [
       "title             object\n",
       "release_date      object\n",
       "genres            object\n",
       "mpaa              object\n",
       "budget_cost       object\n",
       "total_gross       object\n",
       "runtime           object\n",
       "release_month     object\n",
       "release_year      object\n",
       "world_gross        int64\n",
       "domestic_gross     int64\n",
       "month_year        object\n",
       "genre_1           object\n",
       "dtype: object"
      ]
     },
     "execution_count": 660,
     "metadata": {},
     "output_type": "execute_result"
    }
   ],
   "source": [
    "movie_df.dtypes"
   ]
  },
  {
   "cell_type": "code",
   "execution_count": 662,
   "metadata": {},
   "outputs": [],
   "source": [
    "movie_df.budget_cost = movie_df.budget_cost.apply(lambda x: float(x))"
   ]
  },
  {
   "cell_type": "code",
   "execution_count": 664,
   "metadata": {},
   "outputs": [
    {
     "data": {
      "text/plain": [
       "numpy.float64"
      ]
     },
     "execution_count": 664,
     "metadata": {},
     "output_type": "execute_result"
    }
   ],
   "source": [
    "type(movie_df.budget_cost[0])"
   ]
  },
  {
   "cell_type": "code",
   "execution_count": 665,
   "metadata": {},
   "outputs": [
    {
     "data": {
      "text/plain": [
       "3220"
      ]
     },
     "execution_count": 665,
     "metadata": {},
     "output_type": "execute_result"
    }
   ],
   "source": [
    "movie_df.budget_cost.isna().sum()"
   ]
  },
  {
   "cell_type": "code",
   "execution_count": 743,
   "metadata": {},
   "outputs": [],
   "source": [
    "movie_df.to_csv(r'final_movie.csv')"
   ]
  },
  {
   "cell_type": "code",
   "execution_count": null,
   "metadata": {},
   "outputs": [],
   "source": []
  },
  {
   "cell_type": "code",
   "execution_count": null,
   "metadata": {},
   "outputs": [],
   "source": []
  },
  {
   "cell_type": "markdown",
   "metadata": {},
   "source": [
    "## Beginnings of Data Visualization ##\n"
   ]
  },
  {
   "cell_type": "markdown",
   "metadata": {},
   "source": []
  },
  {
   "cell_type": "code",
   "execution_count": 555,
   "metadata": {},
   "outputs": [
    {
     "data": {
      "image/png": "[encoded data removed]",
      "text/plain": [
       "<Figure size 432x288 with 1 Axes>"
      ]
     },
     "metadata": {
      "needs_background": "light"
     },
     "output_type": "display_data"
    }
   ],
   "source": [
    "sns.scatterplot( x = movie_df['release_month'], y = movie_df['world_gross'], data = movie_df)\n",
    "plt.tight_layout()"
   ]
  },
  {
   "cell_type": "code",
   "execution_count": 564,
   "metadata": {},
   "outputs": [
    {
     "data": {
      "image/png": "[encoded data removed]",
      "text/plain": [
       "<Figure size 432x288 with 1 Axes>"
      ]
     },
     "metadata": {
      "needs_background": "light"
     },
     "output_type": "display_data"
    }
   ],
   "source": [
    "months = sns.barplot( x = movie_df['release_month'], y = movie_df['domestic_gross'], data = movie_df)\n",
    "plt.tight_layout()\n",
    "months = bar_genre.set_xticklabels(chart.get_xticklabels(), rotation=45, horizontalalignment='right')\n",
    "#vertical x axis needed"
   ]
  },
  {
   "cell_type": "code",
   "execution_count": null,
   "metadata": {},
   "outputs": [],
   "source": []
  },
  {
   "cell_type": "markdown",
   "metadata": {},
   "source": []
  },
  {
   "cell_type": "code",
   "execution_count": null,
   "metadata": {},
   "outputs": [],
   "source": []
  },
  {
   "cell_type": "markdown",
   "metadata": {},
   "source": [
    "## Question 3: What kind of movie has a higher return?  ##\n",
    "\n",
    "Which genres have the higher revenues?\n"
   ]
  },
  {
   "cell_type": "code",
   "execution_count": 722,
   "metadata": {},
   "outputs": [
    {
     "data": {
      "text/plain": [
       "[Text(0, 0, 'Adventure'),\n",
       " Text(0, 0, 'Action'),\n",
       " Text(0, 0, 'Animation'),\n",
       " Text(0, 0, 'Biography'),\n",
       " Text(0, 0, 'Comedy'),\n",
       " Text(0, 0, 'Horror'),\n",
       " Text(0, 0, 'Drama'),\n",
       " Text(0, 0, 'Crime'),\n",
       " Text(0, 0, 'Documentary'),\n",
       " Text(0, 0, 'Mystery'),\n",
       " Text(0, 0, 'Musical'),\n",
       " Text(0, 0, 'Family'),\n",
       " Text(0, 0, 'Fantasy'),\n",
       " Text(0, 0, 'Film-Noir'),\n",
       " Text(0, 0, 'Sci-Fi'),\n",
       " Text(0, 0, 'Thriller'),\n",
       " Text(0, 0, 'Sport'),\n",
       " Text(0, 0, '[]'),\n",
       " Text(0, 0, 'Romance'),\n",
       " Text(0, 0, 'Music'),\n",
       " Text(0, 0, 'Western'),\n",
       " Text(0, 0, 'Reality-TV'),\n",
       " Text(0, 0, 'News'),\n",
       " Text(0, 0, 'War'),\n",
       " Text(0, 0, 'Adult'),\n",
       " Text(0, 0, 'History'),\n",
       " Text(0, 0, 'Short')]"
      ]
     },
     "execution_count": 722,
     "metadata": {},
     "output_type": "execute_result"
    },
    {
     "data": {
      "image/png": "[encoded data removed]",
      "text/plain": [
       "<Figure size 720x360 with 1 Axes>"
      ]
     },
     "metadata": {
      "needs_background": "light"
     },
     "output_type": "display_data"
    }
   ],
   "source": [
    "genre_df = movie_df.copy()\n",
    "genre_df['genre'] = genre_df['genre_1']\n",
    "genre_df[genre_df['genre'] == '[]'].dropna(axis = 0)\n",
    "\n",
    "plt.figure(figsize = (10,5))\n",
    "bar_genre = sns.barplot(x = genre_df['genre'], y = movie_df['world_gross'], data = movie_df)\n",
    "bar_genre.set_xticklabels(chart.get_xticklabels(), rotation=45, horizontalalignment='right')\n",
    "#vertical x axis needed\n"
   ]
  },
  {
   "cell_type": "code",
   "execution_count": 720,
   "metadata": {},
   "outputs": [
    {
     "data": {
      "text/html": [
       "<div>\n",
       "<style scoped>\n",
       "    .dataframe tbody tr th:only-of-type {\n",
       "        vertical-align: middle;\n",
       "    }\n",
       "\n",
       "    .dataframe tbody tr th {\n",
       "        vertical-align: top;\n",
       "    }\n",
       "\n",
       "    .dataframe thead th {\n",
       "        text-align: right;\n",
       "    }\n",
       "</style>\n",
       "<table border=\"1\" class=\"dataframe\">\n",
       "  <thead>\n",
       "    <tr style=\"text-align: right;\">\n",
       "      <th></th>\n",
       "      <th>title</th>\n",
       "      <th>release_date</th>\n",
       "      <th>genres</th>\n",
       "      <th>mpaa</th>\n",
       "      <th>budget_cost</th>\n",
       "      <th>total_gross</th>\n",
       "      <th>runtime</th>\n",
       "      <th>release_month</th>\n",
       "      <th>release_year</th>\n",
       "      <th>world_gross</th>\n",
       "      <th>domestic_gross</th>\n",
       "      <th>month_year</th>\n",
       "      <th>genre_1</th>\n",
       "      <th>genre</th>\n",
       "    </tr>\n",
       "  </thead>\n",
       "  <tbody>\n",
       "  </tbody>\n",
       "</table>\n",
       "</div>"
      ],
      "text/plain": [
       "Empty DataFrame\n",
       "Columns: [title, release_date, genres, mpaa, budget_cost, total_gross, runtime, release_month, release_year, world_gross, domestic_gross, month_year, genre_1, genre]\n",
       "Index: []"
      ]
     },
     "execution_count": 720,
     "metadata": {},
     "output_type": "execute_result"
    }
   ],
   "source": []
  },
  {
   "cell_type": "code",
   "execution_count": 713,
   "metadata": {},
   "outputs": [
    {
     "data": {
      "text/plain": [
       "[Text(0, 0, 'Adventure'),\n",
       " Text(0, 0, 'Action'),\n",
       " Text(0, 0, 'Animation'),\n",
       " Text(0, 0, 'Biography'),\n",
       " Text(0, 0, 'Comedy'),\n",
       " Text(0, 0, 'Horror'),\n",
       " Text(0, 0, 'Drama'),\n",
       " Text(0, 0, 'Crime'),\n",
       " Text(0, 0, 'Documentary'),\n",
       " Text(0, 0, 'Mystery'),\n",
       " Text(0, 0, 'Musical'),\n",
       " Text(0, 0, 'Family'),\n",
       " Text(0, 0, 'Fantasy'),\n",
       " Text(0, 0, 'Film-Noir'),\n",
       " Text(0, 0, 'Sci-Fi'),\n",
       " Text(0, 0, 'Thriller'),\n",
       " Text(0, 0, 'Sport'),\n",
       " Text(0, 0, '[]'),\n",
       " Text(0, 0, 'Romance'),\n",
       " Text(0, 0, 'Music'),\n",
       " Text(0, 0, 'Western'),\n",
       " Text(0, 0, 'Reality-TV'),\n",
       " Text(0, 0, 'News'),\n",
       " Text(0, 0, 'War'),\n",
       " Text(0, 0, 'Adult'),\n",
       " Text(0, 0, 'History'),\n",
       " Text(0, 0, 'Short')]"
      ]
     },
     "execution_count": 713,
     "metadata": {},
     "output_type": "execute_result"
    },
    {
     "data": {
      "image/png": "[encoded data removed]",
      "text/plain": [
       "<Figure size 720x360 with 1 Axes>"
      ]
     },
     "metadata": {
      "needs_background": "light"
     },
     "output_type": "display_data"
    }
   ],
   "source": [
    "genre_df = movie_df.copy()\n",
    "genre_df['genre'] = genre_df['genre_1']\n",
    "\n",
    "\n",
    "plt.figure(figsize=(10,5))\n",
    "chart = sns.countplot(\n",
    "    data= genre_df,\n",
    "    x= genre_df['genre'],\n",
    "    palette='magma')\n",
    "\n",
    "chart.set_xticklabels(chart.get_xticklabels(), rotation=45, horizontalalignment='right')"
   ]
  },
  {
   "cell_type": "code",
   "execution_count": 4,
   "metadata": {},
   "outputs": [
    {
     "ename": "NameError",
     "evalue": "name 'sns' is not defined",
     "output_type": "error",
     "traceback": [
      "\u001b[0;31m---------------------------------------------------------------------------\u001b[0m",
      "\u001b[0;31mNameError\u001b[0m                                 Traceback (most recent call last)",
      "\u001b[0;32m<ipython-input-4-41149a91f04e>\u001b[0m in \u001b[0;36m<module>\u001b[0;34m\u001b[0m\n\u001b[0;32m----> 1\u001b[0;31m \u001b[0msns\u001b[0m\u001b[0;34m.\u001b[0m\u001b[0mscatterplot\u001b[0m\u001b[0;34m(\u001b[0m\u001b[0mx\u001b[0m \u001b[0;34m=\u001b[0m \u001b[0mmovie_df\u001b[0m\u001b[0;34m[\u001b[0m\u001b[0;34m'genre_1'\u001b[0m\u001b[0;34m]\u001b[0m\u001b[0;34m,\u001b[0m \u001b[0my\u001b[0m \u001b[0;34m=\u001b[0m \u001b[0mmovie_df\u001b[0m\u001b[0;34m[\u001b[0m\u001b[0;34m'world_gross'\u001b[0m\u001b[0;34m]\u001b[0m\u001b[0;34m,\u001b[0m \u001b[0mdata\u001b[0m \u001b[0;34m=\u001b[0m \u001b[0mmovie_df\u001b[0m\u001b[0;34m)\u001b[0m\u001b[0;34m\u001b[0m\u001b[0;34m\u001b[0m\u001b[0m\n\u001b[0m",
      "\u001b[0;31mNameError\u001b[0m: name 'sns' is not defined"
     ]
    }
   ],
   "source": [
    "\n",
    "sns.scatterplot(x = movie_df['genre_1'], y = movie_df['world_gross'], data = movie_df)"
   ]
  },
  {
   "cell_type": "markdown",
   "metadata": {},
   "source": [
    "## Question 4: How much should we budget? ##\n",
    "\n",
    "What budget produces the highest revenue?\n"
   ]
  },
  {
   "cell_type": "code",
   "execution_count": 744,
   "metadata": {},
   "outputs": [],
   "source": [
    "budget_df = movie_df.copy()"
   ]
  },
  {
   "cell_type": "code",
   "execution_count": 745,
   "metadata": {},
   "outputs": [],
   "source": [
    "budget_df.dropna(inplace = True)"
   ]
  },
  {
   "cell_type": "code",
   "execution_count": 1,
   "metadata": {},
   "outputs": [
    {
     "ename": "NameError",
     "evalue": "name 'sns' is not defined",
     "output_type": "error",
     "traceback": [
      "\u001b[0;31m---------------------------------------------------------------------------\u001b[0m",
      "\u001b[0;31mNameError\u001b[0m                                 Traceback (most recent call last)",
      "\u001b[0;32m<ipython-input-1-4c9fca10f714>\u001b[0m in \u001b[0;36m<module>\u001b[0;34m\u001b[0m\n\u001b[0;32m----> 1\u001b[0;31m \u001b[0mgross_budget\u001b[0m \u001b[0;34m=\u001b[0m \u001b[0msns\u001b[0m\u001b[0;34m.\u001b[0m\u001b[0mbarplot\u001b[0m\u001b[0;34m(\u001b[0m\u001b[0mx\u001b[0m \u001b[0;34m=\u001b[0m \u001b[0mbudget_df\u001b[0m\u001b[0;34m[\u001b[0m\u001b[0;34m'world_gross'\u001b[0m\u001b[0;34m]\u001b[0m\u001b[0;34m,\u001b[0m \u001b[0my\u001b[0m \u001b[0;34m=\u001b[0m \u001b[0mbudget_df\u001b[0m\u001b[0;34m[\u001b[0m\u001b[0;34m'budget_cost'\u001b[0m\u001b[0;34m]\u001b[0m\u001b[0;34m,\u001b[0m \u001b[0mdata\u001b[0m \u001b[0;34m=\u001b[0m \u001b[0mbudget_df\u001b[0m\u001b[0;34m)\u001b[0m\u001b[0;34m\u001b[0m\u001b[0;34m\u001b[0m\u001b[0m\n\u001b[0m\u001b[1;32m      2\u001b[0m \u001b[0mgross_budget\u001b[0m\u001b[0;34m.\u001b[0m\u001b[0mset\u001b[0m\u001b[0;34m(\u001b[0m\u001b[0mxticks\u001b[0m\u001b[0;34m=\u001b[0m\u001b[0mdf\u001b[0m\u001b[0;34m.\u001b[0m\u001b[0ma\u001b[0m\u001b[0;34m[\u001b[0m\u001b[0;36m2\u001b[0m\u001b[0;34m:\u001b[0m\u001b[0;34m:\u001b[0m\u001b[0;36m8\u001b[0m\u001b[0;34m]\u001b[0m\u001b[0;34m)\u001b[0m\u001b[0;34m\u001b[0m\u001b[0;34m\u001b[0m\u001b[0m\n",
      "\u001b[0;31mNameError\u001b[0m: name 'sns' is not defined"
     ]
    }
   ],
   "source": [
    "gross_budget = sns.barplot(x = budget_df['world_gross'], y = budget_df['budget_cost'], data = budget_df)\n",
    "gross_budget.set(xticks=df.a[2::8])"
   ]
  },
  {
   "cell_type": "code",
   "execution_count": null,
   "metadata": {},
   "outputs": [],
   "source": []
  },
  {
   "cell_type": "code",
   "execution_count": null,
   "metadata": {},
   "outputs": [],
   "source": []
  },
  {
   "cell_type": "markdown",
   "metadata": {},
   "source": [
    "## Question 5: What rating we target? ##\n",
    "\n",
    "What MPAA has the most Worldwide Gross? "
   ]
  },
  {
   "cell_type": "code",
   "execution_count": 699,
   "metadata": {},
   "outputs": [],
   "source": [
    "mpaa_df = movie_df.copy()\n",
    "#mpaa_df.dropna(axis = 0, inplace = True)\n"
   ]
  },
  {
   "cell_type": "code",
   "execution_count": 701,
   "metadata": {},
   "outputs": [
    {
     "data": {
      "text/plain": [
       "<matplotlib.axes._subplots.AxesSubplot at 0x1a2d3fe7d0>"
      ]
     },
     "execution_count": 701,
     "metadata": {},
     "output_type": "execute_result"
    },
    {
     "data": {
      "image/png": "[encoded data removed]",
      "text/plain": [
       "<Figure size 432x288 with 1 Axes>"
      ]
     },
     "metadata": {
      "needs_background": "light"
     },
     "output_type": "display_data"
    }
   ],
   "source": [
    "sns.barplot(x= mpaa_df['mpaa'], y = mpaa_df['world_gross'], data = mpaa_df, palette = 'magma')"
   ]
  },
  {
   "cell_type": "code",
   "execution_count": null,
   "metadata": {},
   "outputs": [],
   "source": []
  },
  {
   "cell_type": "code",
   "execution_count": null,
   "metadata": {},
   "outputs": [],
   "source": []
  }
 ],
 "metadata": {
  "kernelspec": {
   "display_name": "Python 3",
   "language": "python",
   "name": "python3"
  },
  "language_info": {
   "codemirror_mode": {
    "name": "ipython",
    "version": 3
   },
   "file_extension": ".py",
   "mimetype": "text/x-python",
   "name": "python",
   "nbconvert_exporter": "python",
   "pygments_lexer": "ipython3",
   "version": "3.7.6"
  }
 },
 "nbformat": 4,
 "nbformat_minor": 4
}
